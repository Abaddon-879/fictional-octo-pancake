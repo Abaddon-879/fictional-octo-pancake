{
  "metadata": {
    "language_info": {
      "codemirror_mode": {
        "name": "python",
        "version": 3
      },
      "file_extension": ".py",
      "mimetype": "text/x-python",
      "name": "python",
      "nbconvert_exporter": "python",
      "pygments_lexer": "ipython3",
      "version": "3.8"
    },
    "kernelspec": {
      "name": "python",
      "display_name": "Pyolite",
      "language": "python"
    }
  },
  "nbformat_minor": 4,
  "nbformat": 4,
  "cells": [
    {
      "cell_type": "markdown",
      "source": "# My Jupyter Notebook on IBM Watson Studio",
      "metadata": {}
    },
    {
      "cell_type": "markdown",
      "source": "**SahilKanda**\n\nData Scientist",
      "metadata": {}
    },
    {
      "cell_type": "markdown",
      "source": "*\"I am interested in data science because on its wide use in multiple industries. Including Tech, Finance and Accounting.\"*",
      "metadata": {}
    },
    {
      "cell_type": "markdown",
      "source": "### The code below shows a simple multiplication",
      "metadata": {}
    },
    {
      "cell_type": "code",
      "source": "(6+9)*9",
      "metadata": {
        "trusted": true
      },
      "execution_count": 22,
      "outputs": [
        {
          "execution_count": 22,
          "output_type": "execute_result",
          "data": {
            "text/plain": "135"
          },
          "metadata": {}
        }
      ]
    },
    {
      "cell_type": "markdown",
      "source": "Fresh food shopping list\n\n- Beef\n- ~~Chicken~~\n- Lamb\n*** ",
      "metadata": {}
    },
    {
      "cell_type": "markdown",
      "source": "|Tools for Data Science|\n|------|\n|Apache Spark|\n|MatLab|\n",
      "metadata": {}
    },
    {
      "cell_type": "markdown",
      "source": "Data Science Libraries\n\n1. TensorFlow\n1. NumPy\n1. SciPy \n1. Pandas\n1. Matplotlib \n1. Keras\n1. SciKit-Learn\n1. PyTorch\n1. Scrapy\n1. BeautifulSoup\n1. LightGBM\n1. ELI5",
      "metadata": {}
    },
    {
      "cell_type": "markdown",
      "source": "Data Science Languages\n\n1. Python\n1. Java Script\n1. C++\n1. R\n\n",
      "metadata": {}
    },
    {
      "cell_type": "code",
      "source": "",
      "metadata": {},
      "execution_count": null,
      "outputs": []
    }
  ]
}